{
 "cells": [
  {
   "cell_type": "markdown",
   "id": "7a640acc",
   "metadata": {},
   "source": [
    "# 🧠 Logistic Regression - Sentiment Classifier\n",
    "\n",
    "This notebook builds a **sentiment analysis model** using Logistic Regression. It processes text reviews using **TF-IDF vectorization**, trains a model, evaluates it with standard metrics, and exports the predictions for **Power BI visualizations**."
   ]
  },
  {
   "cell_type": "markdown",
   "id": "c5a0514c",
   "metadata": {},
   "source": [
    "## 📌 Objective\n",
    "\n",
    "- Transform cleaned Amazon Fine Food reviews using **TF-IDF**.\n",
    "- Train a **Logistic Regression classifier** to identify `positive` or `negative` sentiments.\n",
    "- Visualize the **confusion matrix** and evaluate metrics.\n",
    "- Export predictions to CSV for **Power BI dashboard integration**."
   ]
  },
  {
   "cell_type": "markdown",
   "id": "a8e8715a",
   "metadata": {},
   "source": [
    "## 📦 Step 1: Load Cleaned Dataset"
   ]
  },
  {
   "cell_type": "code",
   "execution_count": 1,
   "id": "86889d0a",
   "metadata": {},
   "outputs": [
    {
     "name": "stdout",
     "output_type": "stream",
     "text": [
      "✅ Loaded dataset with 525789 rows and 8 columns\n"
     ]
    },
    {
     "data": {
      "text/html": [
       "<div>\n",
       "<style scoped>\n",
       "    .dataframe tbody tr th:only-of-type {\n",
       "        vertical-align: middle;\n",
       "    }\n",
       "\n",
       "    .dataframe tbody tr th {\n",
       "        vertical-align: top;\n",
       "    }\n",
       "\n",
       "    .dataframe thead th {\n",
       "        text-align: right;\n",
       "    }\n",
       "</style>\n",
       "<table border=\"1\" class=\"dataframe\">\n",
       "  <thead>\n",
       "    <tr style=\"text-align: right;\">\n",
       "      <th></th>\n",
       "      <th>Time</th>\n",
       "      <th>Score</th>\n",
       "      <th>Text</th>\n",
       "      <th>Summary</th>\n",
       "      <th>ProductId</th>\n",
       "      <th>HelpfulnessNumerator</th>\n",
       "      <th>HelpfulnessDenominator</th>\n",
       "      <th>sentiment</th>\n",
       "    </tr>\n",
       "  </thead>\n",
       "  <tbody>\n",
       "    <tr>\n",
       "      <th>0</th>\n",
       "      <td>2011-04-27</td>\n",
       "      <td>5</td>\n",
       "      <td>I have bought several of the Vitality canned d...</td>\n",
       "      <td>Good Quality Dog Food</td>\n",
       "      <td>B001E4KFG0</td>\n",
       "      <td>1</td>\n",
       "      <td>1</td>\n",
       "      <td>positive</td>\n",
       "    </tr>\n",
       "    <tr>\n",
       "      <th>1</th>\n",
       "      <td>2012-09-07</td>\n",
       "      <td>1</td>\n",
       "      <td>Product arrived labeled as Jumbo Salted Peanut...</td>\n",
       "      <td>Not as Advertised</td>\n",
       "      <td>B00813GRG4</td>\n",
       "      <td>0</td>\n",
       "      <td>0</td>\n",
       "      <td>negative</td>\n",
       "    </tr>\n",
       "    <tr>\n",
       "      <th>2</th>\n",
       "      <td>2008-08-18</td>\n",
       "      <td>4</td>\n",
       "      <td>This is a confection that has been around a fe...</td>\n",
       "      <td>\"Delight\" says it all</td>\n",
       "      <td>B000LQOCH0</td>\n",
       "      <td>1</td>\n",
       "      <td>1</td>\n",
       "      <td>positive</td>\n",
       "    </tr>\n",
       "    <tr>\n",
       "      <th>3</th>\n",
       "      <td>2011-06-13</td>\n",
       "      <td>2</td>\n",
       "      <td>If you are looking for the secret ingredient i...</td>\n",
       "      <td>Cough Medicine</td>\n",
       "      <td>B000UA0QIQ</td>\n",
       "      <td>3</td>\n",
       "      <td>3</td>\n",
       "      <td>negative</td>\n",
       "    </tr>\n",
       "    <tr>\n",
       "      <th>4</th>\n",
       "      <td>2012-10-21</td>\n",
       "      <td>5</td>\n",
       "      <td>Great taffy at a great price.  There was a wid...</td>\n",
       "      <td>Great taffy</td>\n",
       "      <td>B006K2ZZ7K</td>\n",
       "      <td>0</td>\n",
       "      <td>0</td>\n",
       "      <td>positive</td>\n",
       "    </tr>\n",
       "  </tbody>\n",
       "</table>\n",
       "</div>"
      ],
      "text/plain": [
       "         Time  Score                                               Text  \\\n",
       "0  2011-04-27      5  I have bought several of the Vitality canned d...   \n",
       "1  2012-09-07      1  Product arrived labeled as Jumbo Salted Peanut...   \n",
       "2  2008-08-18      4  This is a confection that has been around a fe...   \n",
       "3  2011-06-13      2  If you are looking for the secret ingredient i...   \n",
       "4  2012-10-21      5  Great taffy at a great price.  There was a wid...   \n",
       "\n",
       "                 Summary   ProductId  HelpfulnessNumerator  \\\n",
       "0  Good Quality Dog Food  B001E4KFG0                     1   \n",
       "1      Not as Advertised  B00813GRG4                     0   \n",
       "2  \"Delight\" says it all  B000LQOCH0                     1   \n",
       "3         Cough Medicine  B000UA0QIQ                     3   \n",
       "4            Great taffy  B006K2ZZ7K                     0   \n",
       "\n",
       "   HelpfulnessDenominator sentiment  \n",
       "0                       1  positive  \n",
       "1                       0  negative  \n",
       "2                       1  positive  \n",
       "3                       3  negative  \n",
       "4                       0  positive  "
      ]
     },
     "execution_count": 1,
     "metadata": {},
     "output_type": "execute_result"
    }
   ],
   "source": [
    "import pandas as pd\n",
    "\n",
    "# Load cleaned review dataset\n",
    "df = pd.read_csv('cleaned_reviews.csv')\n",
    "print(f\"✅ Loaded dataset with {df.shape[0]} rows and {df.shape[1]} columns\")\n",
    "df.head()"
   ]
  },
  {
   "cell_type": "markdown",
   "id": "f6a128fe",
   "metadata": {},
   "source": [
    "## 🧠 Step 2: Define Features and Labels"
   ]
  },
  {
   "cell_type": "code",
   "execution_count": 2,
   "id": "e3e52898",
   "metadata": {},
   "outputs": [],
   "source": [
    "# Define input features and target labels\n",
    "X = df['Text']                 # Review text\n",
    "y = df['sentiment']           # Sentiment labels: positive/negative"
   ]
  },
  {
   "cell_type": "markdown",
   "id": "2b749257",
   "metadata": {},
   "source": [
    "## 🧹 Step 3: Text Vectorization using TF-IDF"
   ]
  },
  {
   "cell_type": "code",
   "execution_count": 3,
   "id": "f1c9c252",
   "metadata": {},
   "outputs": [
    {
     "name": "stdout",
     "output_type": "stream",
     "text": [
      "✅ TF-IDF vectorization complete\n"
     ]
    }
   ],
   "source": [
    "from sklearn.feature_extraction.text import TfidfVectorizer\n",
    "\n",
    "# Convert text data into TF-IDF features\n",
    "tfidf = TfidfVectorizer(max_features=5000, stop_words='english')\n",
    "X_tfidf = tfidf.fit_transform(X)\n",
    "print(\"✅ TF-IDF vectorization complete\")"
   ]
  },
  {
   "cell_type": "markdown",
   "id": "712449e2",
   "metadata": {},
   "source": [
    "## 🧪 Step 4: Train-Test Split"
   ]
  },
  {
   "cell_type": "code",
   "execution_count": 4,
   "id": "7385e104",
   "metadata": {},
   "outputs": [
    {
     "name": "stdout",
     "output_type": "stream",
     "text": [
      "🧪 Training samples: 420631, Testing samples: 105158\n"
     ]
    }
   ],
   "source": [
    "from sklearn.model_selection import train_test_split\n",
    "\n",
    "# Split data into training and testing sets (80/20)\n",
    "X_train, X_test, y_train, y_test = train_test_split(X_tfidf, y, test_size=0.2, random_state=42)\n",
    "print(f\"🧪 Training samples: {X_train.shape[0]}, Testing samples: {X_test.shape[0]}\")"
   ]
  },
  {
   "cell_type": "markdown",
   "id": "9ab4fb26",
   "metadata": {},
   "source": [
    "## ⚙️ Step 5: Train the Logistic Regression Model"
   ]
  },
  {
   "cell_type": "code",
   "execution_count": 5,
   "id": "acabe62b",
   "metadata": {},
   "outputs": [
    {
     "name": "stdout",
     "output_type": "stream",
     "text": [
      "✅ Model training completed\n"
     ]
    }
   ],
   "source": [
    "from sklearn.linear_model import LogisticRegression\n",
    "\n",
    "# Initialize and train the classifier\n",
    "model = LogisticRegression()\n",
    "model.fit(X_train, y_train)\n",
    "print(\"✅ Model training completed\")"
   ]
  },
  {
   "cell_type": "markdown",
   "id": "f00d2fe9",
   "metadata": {},
   "source": [
    "## 📊 Step 6: Evaluate Model Performance"
   ]
  },
  {
   "cell_type": "code",
   "execution_count": 6,
   "id": "a8de2f21",
   "metadata": {},
   "outputs": [
    {
     "data": {
      "text/html": [
       "<div>\n",
       "<style scoped>\n",
       "    .dataframe tbody tr th:only-of-type {\n",
       "        vertical-align: middle;\n",
       "    }\n",
       "\n",
       "    .dataframe tbody tr th {\n",
       "        vertical-align: top;\n",
       "    }\n",
       "\n",
       "    .dataframe thead th {\n",
       "        text-align: right;\n",
       "    }\n",
       "</style>\n",
       "<table border=\"1\" class=\"dataframe\">\n",
       "  <thead>\n",
       "    <tr style=\"text-align: right;\">\n",
       "      <th></th>\n",
       "      <th>precision</th>\n",
       "      <th>recall</th>\n",
       "      <th>f1-score</th>\n",
       "      <th>support</th>\n",
       "    </tr>\n",
       "  </thead>\n",
       "  <tbody>\n",
       "    <tr>\n",
       "      <th>negative</th>\n",
       "      <td>0.829128</td>\n",
       "      <td>0.682129</td>\n",
       "      <td>0.748479</td>\n",
       "      <td>16233.00000</td>\n",
       "    </tr>\n",
       "    <tr>\n",
       "      <th>positive</th>\n",
       "      <td>0.943793</td>\n",
       "      <td>0.974338</td>\n",
       "      <td>0.958822</td>\n",
       "      <td>88925.00000</td>\n",
       "    </tr>\n",
       "    <tr>\n",
       "      <th>accuracy</th>\n",
       "      <td>0.929230</td>\n",
       "      <td>0.929230</td>\n",
       "      <td>0.929230</td>\n",
       "      <td>0.92923</td>\n",
       "    </tr>\n",
       "    <tr>\n",
       "      <th>macro avg</th>\n",
       "      <td>0.886460</td>\n",
       "      <td>0.828233</td>\n",
       "      <td>0.853651</td>\n",
       "      <td>105158.00000</td>\n",
       "    </tr>\n",
       "    <tr>\n",
       "      <th>weighted avg</th>\n",
       "      <td>0.926092</td>\n",
       "      <td>0.929230</td>\n",
       "      <td>0.926352</td>\n",
       "      <td>105158.00000</td>\n",
       "    </tr>\n",
       "  </tbody>\n",
       "</table>\n",
       "</div>"
      ],
      "text/plain": [
       "              precision    recall  f1-score       support\n",
       "negative       0.829128  0.682129  0.748479   16233.00000\n",
       "positive       0.943793  0.974338  0.958822   88925.00000\n",
       "accuracy       0.929230  0.929230  0.929230       0.92923\n",
       "macro avg      0.886460  0.828233  0.853651  105158.00000\n",
       "weighted avg   0.926092  0.929230  0.926352  105158.00000"
      ]
     },
     "execution_count": 6,
     "metadata": {},
     "output_type": "execute_result"
    }
   ],
   "source": [
    "from sklearn.metrics import classification_report\n",
    "\n",
    "# Predict on test data\n",
    "y_pred = model.predict(X_test)\n",
    "\n",
    "# Generate evaluation report\n",
    "report = classification_report(y_test, y_pred, output_dict=True)\n",
    "\n",
    "# Display as a DataFrame\n",
    "pd.DataFrame(report).T"
   ]
  },
  {
   "cell_type": "markdown",
   "id": "764bf423",
   "metadata": {},
   "source": [
    "📝 **Metrics Explained**  \n",
    "- **Precision**: True Positives / (True Positives + False Positives)  \n",
    "- **Recall**: True Positives / (True Positives + False Negatives)  \n",
    "- **F1-Score**: Harmonic mean of precision and recall  \n",
    "- **Support**: Number of samples for each class"
   ]
  },
  {
   "cell_type": "markdown",
   "id": "d5d225bf",
   "metadata": {},
   "source": [
    "## 📉 Step 7: Confusion Matrix Visualization"
   ]
  },
  {
   "cell_type": "code",
   "execution_count": 7,
   "id": "9a73af67",
   "metadata": {},
   "outputs": [
    {
     "data": {
      "image/png": "[encoded data removed]",
      "text/plain": [
       "<Figure size 640x480 with 2 Axes>"
      ]
     },
     "metadata": {},
     "output_type": "display_data"
    }
   ],
   "source": [
    "from sklearn.metrics import confusion_matrix\n",
    "import matplotlib.pyplot as plt\n",
    "import seaborn as sns\n",
    "\n",
    "# Create confusion matrix\n",
    "cm = confusion_matrix(y_test, y_pred, labels=['positive', 'negative'])\n",
    "\n",
    "# Plot using Seaborn\n",
    "sns.heatmap(cm, annot=True, fmt='d', cmap='Blues', \n",
    "            xticklabels=['positive', 'negative'],\n",
    "            yticklabels=['positive', 'negative'])\n",
    "\n",
    "plt.title(\"Confusion Matrix\")\n",
    "plt.xlabel(\"Predicted Label\")\n",
    "plt.ylabel(\"Actual Label\")\n",
    "plt.show()"
   ]
  },
  {
   "cell_type": "markdown",
   "id": "4d123482",
   "metadata": {},
   "source": [
    "🧩 **Confusion Matrix Key**  \n",
    "- **True Positives (TP)**: Correctly predicted positives  \n",
    "- **True Negatives (TN)**: Correctly predicted negatives  \n",
    "- **False Positives (FP)**: Incorrectly predicted positives  \n",
    "- **False Negatives (FN)**: Incorrectly predicted negatives"
   ]
  },
  {
   "cell_type": "markdown",
   "id": "045a109d",
   "metadata": {},
   "source": [
    "## 📁 Step 8: Export Predictions for Power BI"
   ]
  },
  {
   "cell_type": "code",
   "execution_count": 9,
   "id": "a627d939",
   "metadata": {},
   "outputs": [
    {
     "name": "stdout",
     "output_type": "stream",
     "text": [
      "📁 Exported predictions to 'sentiment_output.csv'\n"
     ]
    }
   ],
   "source": [
    "# Predict on full dataset\n",
    "df['predicted_sentiment'] = model.predict(tfidf.transform(df['Text']))\n",
    "\n",
    "# Export selected columns with predictions\n",
    "df[['Time', 'ProductId', 'Score', 'Text', 'sentiment', 'predicted_sentiment']].to_csv('sentiment_output_ml_model.csv', index=False)\n",
    "\n",
    "print(\"📁 Exported predictions to 'sentiment_output.csv'\")"
   ]
  },
  {
   "cell_type": "markdown",
   "id": "cd50e63a",
   "metadata": {},
   "source": [
    "## ✅ Final Notes\n",
    "\n",
    "- The **Logistic Regression model** provides efficient and interpretable sentiment predictions.\n",
    "- Predictions are saved in CSV format, ready for **Power BI visual analytics**.\n",
    "- Evaluation metrics and confusion matrix offer insights into performance.\n",
    "\n",
    "> ✨ _Next Step_: Integrate the predictions into your Power BI dashboard using `sentiment_output.csv`."
   ]
  }
 ],
 "metadata": {
  "kernelspec": {
   "display_name": "Python 3 (ipykernel)",
   "language": "python",
   "name": "python3"
  },
  "language_info": {
   "codemirror_mode": {
    "name": "ipython",
    "version": 3
   },
   "file_extension": ".py",
   "mimetype": "text/x-python",
   "name": "python",
   "nbconvert_exporter": "python",
   "pygments_lexer": "ipython3",
   "version": "3.10.17"
  }
 },
 "nbformat": 4,
 "nbformat_minor": 5
}
