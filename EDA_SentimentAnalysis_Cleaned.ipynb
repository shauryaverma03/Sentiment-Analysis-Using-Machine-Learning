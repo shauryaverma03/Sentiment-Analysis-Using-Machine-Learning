{
 "cells": [
  {
   "cell_type": "markdown",
   "id": "6607160d",
   "metadata": {},
   "source": [
    "# 📊 Sentiment Analysis of Amazon Fine Food Reviews\n",
    "\n",
    "This notebook explores and analyzes a large dataset of Amazon food product reviews to understand customer sentiment using NLP and EDA techniques.\n"
   ]
  },
  {
   "cell_type": "markdown",
   "id": "8009587f",
   "metadata": {},
   "source": [
    "## 🎯 Project Objectives\n",
    "\n",
    "- Understand the distribution of review scores and sentiments  \n",
    "- Clean and preprocess the dataset for ML modeling  \n",
    "- Label reviews as **positive** or **negative**  \n",
    "- Visualize key insights to be used in a Power BI Dashboard  \n"
   ]
  },
  {
   "cell_type": "markdown",
   "id": "d9edd49f",
   "metadata": {},
   "source": [
    "## 📁 Dataset Information\n",
    "\n",
    "- **Source**: Amazon Fine Food Reviews (Kaggle)\n",
    "- **File**: `Reviews.csv`\n",
    "- **Original Columns Used**: `Time`, `Score`, `Text`, `Summary`, `ProductId`, `HelpfulnessNumerator`, `HelpfulnessDenominator`\n"
   ]
  },
  {
   "cell_type": "code",
   "execution_count": null,
   "id": "dfcb6e66",
   "metadata": {},
   "outputs": [],
   "source": [
    "import pandas as pd\n",
    "\n",
    "# Step 1: Load the dataset from the same folder\n",
    "df = pd.read_csv('Reviews.csv')\n",
    "\n",
    "# Step 2: Basic info to confirm it's loaded\n",
    "print(\"✅ Dataset loaded successfully!\")\n",
    "print(\"Shape:\", df.shape)\n",
    "print(\"Columns:\", df.columns.tolist())"
   ]
  },
  {
   "cell_type": "markdown",
   "id": "2c22ef11",
   "metadata": {},
   "source": [
    "## 🧹 Data Cleaning & Sentiment Labeling\n",
    "\n",
    "We'll keep only relevant columns, convert timestamps, and create a new sentiment label based on review scores:\n",
    "\n",
    "- **Score < 3** → Negative  \n",
    "- **Score > 3** → Positive  \n",
    "- **Score = 3** → Neutral (will be removed)\n"
   ]
  },
  {
   "cell_type": "code",
   "execution_count": null,
   "id": "f68c3b69",
   "metadata": {},
   "outputs": [],
   "source": [
    "from tabulate import tabulate\n",
    "import matplotlib.pyplot as plt\n",
    "import seaborn as sns\n",
    "\n",
    "original_shape = df.shape\n",
    "df = df[['Time', 'Score', 'Text', 'Summary', 'ProductId', 'HelpfulnessNumerator', 'HelpfulnessDenominator']]\n",
    "df.dropna(inplace=True)\n",
    "\n",
    "# Convert time\n",
    "df['Time'] = pd.to_datetime(df['Time'], unit='s')\n",
    "\n",
    "# Sentiment labeling\n",
    "def label_sentiment(score):\n",
    "    if score < 3:\n",
    "        return 'negative'\n",
    "    elif score > 3:\n",
    "        return 'positive'\n",
    "    else:\n",
    "        return 'neutral'\n",
    "\n",
    "df['sentiment'] = df['Score'].apply(label_sentiment)\n",
    "df = df[df['sentiment'] != 'neutral']\n",
    "cleaned_shape = df.shape\n",
    "\n",
    "# Save cleaned data\n",
    "df.to_csv('cleaned_reviews.csv', index=False)"
   ]
  },
  {
   "cell_type": "markdown",
   "id": "5fd30f2a",
   "metadata": {},
   "source": [
    "## 📊 Dataset Cleaning Summary"
   ]
  },
  {
   "cell_type": "code",
   "execution_count": null,
   "id": "8f4bf72c",
   "metadata": {},
   "outputs": [],
   "source": [
    "summary_table = [\n",
    "    ['Original Rows', original_shape[0]],\n",
    "    ['Original Columns', original_shape[1]],\n",
    "    ['Rows after cleaning', cleaned_shape[0]],\n",
    "    ['Columns after cleaning', cleaned_shape[1]],\n",
    "    ['Neutral rows dropped', original_shape[0] - cleaned_shape[0]]\n",
    "]\n",
    "\n",
    "print(tabulate(summary_table, headers=['Metric', 'Value'], tablefmt='fancy_grid'))"
   ]
  },
  {
   "cell_type": "markdown",
   "id": "fba05861",
   "metadata": {},
   "source": [
    "## 📈 Sentiment Distribution"
   ]
  },
  {
   "cell_type": "code",
   "execution_count": null,
   "id": "22e5cd84",
   "metadata": {},
   "outputs": [],
   "source": [
    "sentiment_count = df['sentiment'].value_counts().reset_index()\n",
    "sentiment_count.columns = ['Sentiment', 'Count']\n",
    "\n",
    "print(tabulate(sentiment_count.values, headers=sentiment_count.columns.tolist(), tablefmt='fancy_grid'))"
   ]
  },
  {
   "cell_type": "markdown",
   "id": "36d26838",
   "metadata": {},
   "source": [
    "## 📊 Visualizations\n",
    "\n",
    "### ✅ Sentiment Count\n"
   ]
  },
  {
   "cell_type": "code",
   "execution_count": null,
   "id": "5a7f4969",
   "metadata": {},
   "outputs": [],
   "source": [
    "sns.countplot(data=df, x='sentiment', palette='Set2')\n",
    "plt.title('Sentiment Distribution')\n",
    "plt.savefig('sentiment_distribution.png')\n",
    "plt.show()"
   ]
  },
  {
   "cell_type": "markdown",
   "id": "35c2b8a6",
   "metadata": {},
   "source": [
    "### ⭐ Review Score Distribution"
   ]
  },
  {
   "cell_type": "code",
   "execution_count": null,
   "id": "69ad1fed",
   "metadata": {},
   "outputs": [],
   "source": [
    "sns.histplot(df['Score'], bins=5, kde=True, color='orange')\n",
    "plt.title('Review Score Distribution')\n",
    "plt.savefig('score_distribution.png')\n",
    "plt.show()"
   ]
  },
  {
   "cell_type": "markdown",
   "id": "e8f042c0",
   "metadata": {},
   "source": [
    "### 📅 Monthly Review Count"
   ]
  },
  {
   "cell_type": "code",
   "execution_count": null,
   "id": "fac9d022",
   "metadata": {},
   "outputs": [],
   "source": [
    "df['Month'] = df['Time'].dt.month\n",
    "df['Month'].value_counts().sort_index().plot(kind='bar', color='skyblue')\n",
    "plt.title(\"Review Count by Month\")\n",
    "plt.xlabel(\"Month\")\n",
    "plt.ylabel(\"Reviews\")\n",
    "plt.savefig('reviews_by_month.png')\n",
    "plt.show()"
   ]
  },
  {
   "cell_type": "markdown",
   "id": "646c1763",
   "metadata": {},
   "source": [
    "## 🔚 Conclusion & Next Steps\n",
    "\n",
    "- Data is cleaned, labeled, and saved as `cleaned_reviews.csv`\n",
    "- Visualizations show clear sentiment trends\n",
    "- This data is now ready for:\n",
    "  - Machine Learning modeling (TF-IDF, Logistic Regression)\n",
    "  - Power BI dashboard integration\n",
    "\n",
    "---\n",
    "👨‍💻 Project by **Shaurya Verma**  \n",
    "B.Tech CSE | LPU | Data Science Enthusiast\n"
   ]
  }
 ],
 "metadata": {
  "kernelspec": {
   "display_name": "Python 3 (ipykernel)",
   "language": "python",
   "name": "python3"
  },
  "language_info": {
   "codemirror_mode": {
    "name": "ipython",
    "version": 3
   },
   "file_extension": ".py",
   "mimetype": "text/x-python",
   "name": "python",
   "nbconvert_exporter": "python",
   "pygments_lexer": "ipython3",
   "version": "3.10.17"
  }
 },
 "nbformat": 4,
 "nbformat_minor": 5
}
